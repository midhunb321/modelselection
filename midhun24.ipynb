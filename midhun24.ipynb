{
  "nbformat": 4,
  "nbformat_minor": 0,
  "metadata": {
    "colab": {
      "provenance": []
    },
    "kernelspec": {
      "name": "python3",
      "display_name": "Python 3"
    },
    "language_info": {
      "name": "python"
    }
  },
  "cells": [
    {
      "cell_type": "code",
      "source": [
        "# Import necessary libraries\n",
        "import pandas as pd\n",
        "from sklearn.model_selection import train_test_split, cross_val_score, StratifiedKFold\n",
        "from sklearn.neighbors import KNeighborsClassifier\n",
        "from sklearn.svm import SVC\n",
        "from sklearn.preprocessing import StandardScaler, OneHotEncoder\n",
        "from sklearn.compose import ColumnTransformer\n",
        "from sklearn.pipeline import Pipeline\n",
        "from sklearn.impute import SimpleImputer\n",
        "from sklearn.metrics import accuracy_score\n",
        "\n",
        "# Load the Titanic dataset (you may need to adjust the path)\n",
        "titanic_data = pd.read_csv('titanic_dataset .csv')\n",
        "\n",
        "# Assume 'Survived' is the target variable\n",
        "X = titanic_data.drop('Survived', axis=1)\n",
        "y = titanic_data['Survived']\n",
        "\n",
        "# Identify non-numeric columns\n",
        "non_numeric_columns = X.select_dtypes(include=['object']).columns\n",
        "\n",
        "# Create transformers for numeric and categorical columns\n",
        "numeric_features = X.select_dtypes(include=['int64', 'float64']).columns\n",
        "numeric_transformer = Pipeline(steps=[\n",
        "    ('imputer', SimpleImputer(strategy='mean')),\n",
        "    ('scaler', StandardScaler())\n",
        "])\n",
        "\n",
        "categorical_features = non_numeric_columns\n",
        "categorical_transformer = Pipeline(steps=[\n",
        "    ('imputer', SimpleImputer(strategy='constant', fill_value='missing')),\n",
        "    ('onehot', OneHotEncoder(handle_unknown='ignore'))\n",
        "])\n",
        "\n",
        "# Combine transformers\n",
        "preprocessor = ColumnTransformer(\n",
        "    transformers=[\n",
        "        ('num', numeric_transformer, numeric_features),\n",
        "        ('cat', categorical_transformer, categorical_features)\n",
        "    ])\n",
        "\n",
        "# Create kNN model\n",
        "knn_model = KNeighborsClassifier(n_neighbors=5)\n",
        "\n",
        "# Create SVM model\n",
        "svm_model = SVC(kernel='linear', C=1)\n",
        "\n",
        "# Create pipelines for kNN and SVM including preprocessing\n",
        "knn_pipeline = Pipeline(steps=[('preprocessor', preprocessor),\n",
        "                                ('classifier', knn_model)])\n",
        "\n",
        "svm_pipeline = Pipeline(steps=[('preprocessor', preprocessor),\n",
        "                                ('classifier', svm_model)])\n",
        "\n",
        "# Perform k-fold cross-validation for kNN\n",
        "knn_scores = cross_val_score(knn_pipeline, X, y, cv=5, scoring='accuracy')\n",
        "\n",
        "# Perform k-fold cross-validation for SVM\n",
        "svm_scores = cross_val_score(svm_pipeline, X, y, cv=5, scoring='accuracy')\n",
        "\n",
        "# Calculate average accuracy scores\n",
        "knn_avg_accuracy = knn_scores.mean()\n",
        "svm_avg_accuracy = svm_scores.mean()\n",
        "\n",
        "# Print the results\n",
        "print(\"kNN Average Accuracy (k-fold):\", knn_avg_accuracy)\n",
        "print(\"SVM Average Accuracy (k-fold):\", svm_avg_accuracy)\n"
      ],
      "metadata": {
        "colab": {
          "base_uri": "https://localhost:8080/"
        },
        "id": "ck1xxEsAf-ae",
        "outputId": "ae28543e-8f12-4f36-e9e2-6b713177544d"
      },
      "execution_count": 11,
      "outputs": [
        {
          "output_type": "stream",
          "name": "stdout",
          "text": [
            "kNN Average Accuracy (k-fold): 0.7991023790094782\n",
            "SVM Average Accuracy (k-fold): 0.8350009415604795\n"
          ]
        }
      ]
    }
  ]
}